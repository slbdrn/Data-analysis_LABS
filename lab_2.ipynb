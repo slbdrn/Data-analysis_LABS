{
 "cells": [
  {
   "cell_type": "markdown",
   "metadata": {},
   "source": [
    "<H1>ФБ-25 Слобода Ірина</H1>\n",
    "<h2>Лабораторна робота 2</h2>"
   ]
  },
  {
   "cell_type": "code",
   "execution_count": 112,
   "metadata": {},
   "outputs": [
    {
     "name": "stdout",
     "output_type": "stream",
     "text": [
      "Setup ok\n"
     ]
    }
   ],
   "source": [
    "import datetime\n",
    "import os\n",
    "import urllib\n",
    "from prettytable import PrettyTable\n",
    "import pandas as pd\n",
    "\n",
    "print(\"Setup ok\")"
   ]
  },
  {
   "cell_type": "markdown",
   "metadata": {},
   "source": [
    "Функція для завантаження даних"
   ]
  },
  {
   "cell_type": "code",
   "execution_count": 110,
   "metadata": {},
   "outputs": [],
   "source": [
    "def download_data(province_id, year1=1981, year2=2024):\n",
    "    # Checking the existence of the data folder\n",
    "    data_folder = 'data'\n",
    "    if not os.path.exists(data_folder):\n",
    "        os.makedirs(data_folder)\n",
    "    else:\n",
    "        # Checking the existence of an already downloaded file\n",
    "        existing_files = [f for f in os.listdir(data_folder) if f.startswith(f'vhi_id__{province_id}__')]\n",
    "        if existing_files:\n",
    "            print(f\"File '{existing_files[0]}' already exists in the 'data' folder. Nothing to download.\")\n",
    "            return\n",
    "\n",
    "    # Loading data\n",
    "    url = f\"https://www.star.nesdis.noaa.gov/smcd/emb/vci/VH/get_TS_admin.php?country=UKR&provinceID={province_id}&year1={year1}&year2={year2}&type=Mean\"\n",
    "    vhi_url = urllib.request.urlopen(url)\n",
    "\n",
    "    # Writing to a file\n",
    "    current_datetime = datetime.datetime.now().strftime('%Y-%m-%d_%H-%M')\n",
    "    filename = f'vhi_id__{province_id}__{current_datetime}.csv'\n",
    "    file_path = os.path.join(data_folder, filename)\n",
    "\n",
    "    with open(file_path, 'wb') as out:\n",
    "        out.write(vhi_url.read())\n",
    "\n",
    "    print(f\"VHI is downloaded and saved in '{file_path}'\")"
   ]
  },
  {
   "cell_type": "markdown",
   "metadata": {},
   "source": [
    "Завантаження тестових структуровних данних за номером області"
   ]
  },
  {
   "cell_type": "code",
   "execution_count": 111,
   "metadata": {},
   "outputs": [
    {
     "name": "stdout",
     "output_type": "stream",
     "text": [
      "File 'vhi_id__1__2024-05-28_15-49.csv' already exists in the 'data' folder. Nothing to download.\n",
      "File 'vhi_id__2__2024-05-28_15-49.csv' already exists in the 'data' folder. Nothing to download.\n",
      "File 'vhi_id__3__2024-05-28_15-49.csv' already exists in the 'data' folder. Nothing to download.\n",
      "File 'vhi_id__4__2024-05-28_15-49.csv' already exists in the 'data' folder. Nothing to download.\n",
      "File 'vhi_id__5__2024-05-28_15-49.csv' already exists in the 'data' folder. Nothing to download.\n",
      "File 'vhi_id__6__2024-05-28_15-49.csv' already exists in the 'data' folder. Nothing to download.\n",
      "File 'vhi_id__7__2024-05-28_15-49.csv' already exists in the 'data' folder. Nothing to download.\n",
      "File 'vhi_id__8__2024-05-28_15-49.csv' already exists in the 'data' folder. Nothing to download.\n",
      "File 'vhi_id__9__2024-05-28_15-49.csv' already exists in the 'data' folder. Nothing to download.\n",
      "File 'vhi_id__10__2024-05-28_15-49.csv' already exists in the 'data' folder. Nothing to download.\n",
      "File 'vhi_id__11__2024-05-28_15-49.csv' already exists in the 'data' folder. Nothing to download.\n",
      "File 'vhi_id__12__2024-05-28_15-49.csv' already exists in the 'data' folder. Nothing to download.\n",
      "File 'vhi_id__13__2024-05-28_15-49.csv' already exists in the 'data' folder. Nothing to download.\n",
      "File 'vhi_id__14__2024-05-28_15-49.csv' already exists in the 'data' folder. Nothing to download.\n",
      "File 'vhi_id__15__2024-05-28_15-49.csv' already exists in the 'data' folder. Nothing to download.\n",
      "File 'vhi_id__16__2024-05-28_15-49.csv' already exists in the 'data' folder. Nothing to download.\n",
      "File 'vhi_id__17__2024-05-28_15-49.csv' already exists in the 'data' folder. Nothing to download.\n",
      "File 'vhi_id__18__2024-05-28_15-49.csv' already exists in the 'data' folder. Nothing to download.\n",
      "File 'vhi_id__19__2024-05-28_15-49.csv' already exists in the 'data' folder. Nothing to download.\n",
      "File 'vhi_id__20__2024-05-28_15-49.csv' already exists in the 'data' folder. Nothing to download.\n",
      "File 'vhi_id__21__2024-05-28_15-49.csv' already exists in the 'data' folder. Nothing to download.\n",
      "File 'vhi_id__22__2024-05-28_15-49.csv' already exists in the 'data' folder. Nothing to download.\n",
      "File 'vhi_id__23__2024-05-28_15-49.csv' already exists in the 'data' folder. Nothing to download.\n",
      "File 'vhi_id__24__2024-05-28_15-49.csv' already exists in the 'data' folder. Nothing to download.\n",
      "File 'vhi_id__25__2024-05-28_15-49.csv' already exists in the 'data' folder. Nothing to download.\n",
      "File 'vhi_id__26__2024-05-28_15-49.csv' already exists in the 'data' folder. Nothing to download.\n",
      "File 'vhi_id__27__2024-05-28_15-49.csv' already exists in the 'data' folder. Nothing to download.\n"
     ]
    }
   ],
   "source": [
    "for i in range(1,28):\n",
    "  download_data(i)"
   ]
  },
  {
   "cell_type": "markdown",
   "metadata": {},
   "source": [
    "Відповідність id регіону та його назви"
   ]
  },
  {
   "cell_type": "code",
   "execution_count": 97,
   "metadata": {},
   "outputs": [],
   "source": [
    "reg_id_name = {\n",
    "    1: 'Вінницька',  2: 'Волинська',  3: 'Дніпропетровська',  4: 'Донецька',  5: 'Житомирська',\n",
    "    6: 'Закарпатська',  7: 'Запорізька',  8: 'Івано-Франківська',  9: 'Київська',  10: 'Кіровоградська',\n",
    "    11: 'Луганська',  12: 'Львівська',  13: 'Миколаївська',  14: 'Одеська',  15: 'Полтавська',\n",
    "    16: 'Рівенська',  17: 'Сумська',  18: 'Тернопільська',  19: 'Харківська',  20: 'Херсонська',\n",
    "    21: 'Хмельницька',  22: 'Черкаська',  23: 'Чернівецька',  24: 'Чернігівська',  25: 'Республіка Крим'\n",
    "}"
   ]
  },
  {
   "cell_type": "markdown",
   "metadata": {},
   "source": [
    "Функція очищення даних і створення загального DataFrame\n"
   ]
  },
  {
   "cell_type": "code",
   "execution_count": 103,
   "metadata": {},
   "outputs": [],
   "source": [
    "def create_data_frame(folder_path):\n",
    "\n",
    "    csv_files = glob.glob(folder_path + \"/*.csv\")\n",
    "\n",
    "    headers = ['Year', 'Week', 'SMN', 'SMT', 'VCI', 'TCI', 'VHI', 'empty']\n",
    "    frames = []\n",
    "\n",
    "    for file in csv_files:\n",
    "        region_id = int(file.split('__')[1])\n",
    "        df = pd.read_csv(file, header = 1, names = headers)\n",
    "        df.at[0, 'Year'] =  df.at[0, 'Year'][9:]\n",
    "        df=df.drop(df.index[-1])\n",
    "        df = df.drop(df.loc[df['VHI'] == -1].index)\n",
    "        df = df.drop('empty', axis=1)\n",
    "        df.insert(0, 'region_id', region_id, True)\n",
    "        df['Week'] = df['Week'].astype(int)\n",
    "        \n",
    "        frames.append(df)   \n",
    "    result = pd.concat(frames).drop_duplicates().reset_index(drop=True)\n",
    "\n",
    "    result = result.loc[(result.region_id != 12) & (result.region_id != 20)]\n",
    "    result = result.replace({'region_id':{1:22, 2:24, 3:23, 4:25, 5:3, 6:4, 7:8, 8:19, 9:20, 10:21,\n",
    "                                          11:9, 13:10, 14:11, 15:12, 16:13, 17:14, 18:15, 19:16, 21:17, \n",
    "                                          22:18, 23:6, 24:1, 25:2, 26:6, 27:5}})\n",
    "    return result"
   ]
  },
  {
   "cell_type": "code",
   "execution_count": 105,
   "metadata": {},
   "outputs": [
    {
     "name": "stdout",
     "output_type": "stream",
     "text": [
      "       region_id  Year  Week    SMN     SMT    VCI    TCI    VHI\n",
      "0             21  1982     1  0.059  258.24  51.11  48.78  49.95\n",
      "1             21  1982     2  0.063  261.53  55.89  38.20  47.04\n",
      "2             21  1982     3  0.063  263.45  57.30  32.69  44.99\n",
      "3             21  1982     4  0.061  265.10  53.96  28.62  41.29\n",
      "4             21  1982     5  0.058  266.42  46.87  28.57  37.72\n",
      "...          ...   ...   ...    ...     ...    ...    ...    ...\n",
      "58180         20  2024    17  0.305  297.61  70.08  19.57  44.86\n",
      "58181         20  2024    18  0.321  298.34  68.49  29.65  49.10\n",
      "58182         20  2024    19  0.332  298.89  65.60  39.63  52.66\n",
      "58183         20  2024    20  0.339  299.21  62.45  47.38  54.95\n",
      "58184         20  2024    21  0.342  299.32  60.94  52.99  57.00\n",
      "\n",
      "[53875 rows x 8 columns]\n"
     ]
    }
   ],
   "source": [
    "resultdf = create_data_frame('data')\n",
    "\n",
    "print(resultdf)"
   ]
  },
  {
   "cell_type": "code",
   "execution_count": 106,
   "metadata": {},
   "outputs": [],
   "source": [
    "def region_year_analysis(region_id, years =(\"1982\",\"2024\"), ):\n",
    "\n",
    "    df2 = resultdf[(resultdf[\"Year\"].between(years[0],years[1])) & (resultdf['region_id'] == region_id)]\n",
    "    # print(df2)\n",
    "    region_name = reg_id_name[region_id]\n",
    "    vhi_max_reg = df2[\"VHI\"].max()\n",
    "    vhi_min_reg = df2[\"VHI\"].min()\n",
    "    print(f\"[+] {region_name}: min {vhi_min_reg} max {vhi_max_reg}\")\n",
    "\n"
   ]
  },
  {
   "cell_type": "code",
   "execution_count": 107,
   "metadata": {},
   "outputs": [
    {
     "name": "stdout",
     "output_type": "stream",
     "text": [
      "[+] Вінницька: min 11.25 max 82.64\n",
      "[+] Волинська: min 11.91 max 78.32\n",
      "[+] Дніпропетровська: min 17.58 max 93.17\n",
      "[+] Донецька: min 6.26 max 96.18\n",
      "[+] Житомирська: min 19.48 max 77.57\n",
      "[+] Закарпатська: min 10.88 max 96.69\n",
      "[+] Запорізька: min nan max nan\n",
      "[+] Івано-Франківська: min 18.98 max 73.35\n",
      "[+] Київська: min 10.6 max 80.88\n",
      "[+] Кіровоградська: min 16.36 max 84.52\n",
      "[+] Луганська: min 12.45 max 90.32\n",
      "[+] Львівська: min 18.31 max 69.96\n",
      "[+] Миколаївська: min 5.94 max 92.31\n",
      "[+] Одеська: min 5.52 max 89.14\n",
      "[+] Полтавська: min 15.68 max 85.14\n",
      "[+] Рівенська: min 20.7 max 77.45\n",
      "[+] Сумська: min 12.64 max 81.96\n",
      "[+] Тернопільська: min 19.45 max 77.71\n",
      "[+] Харківська: min 9.36 max 91.42\n",
      "[+] Херсонська: min 12.23 max 90.61\n",
      "[+] Хмельницька: min 18.41 max 79.4\n",
      "[+] Черкаська: min 10.68 max 83.7\n",
      "[+] Чернівецька: min 15.16 max 74.92\n",
      "[+] Чернігівська: min 15.17 max 80.65\n",
      "[+] Республіка Крим: min 13.28 max 90.96\n"
     ]
    }
   ],
   "source": [
    "\n",
    "# years = (\"2000\",\"2000\")\n",
    "for i in range(1,26):\n",
    "    region_year_analysis(i)\n"
   ]
  },
  {
   "cell_type": "code",
   "execution_count": 116,
   "metadata": {},
   "outputs": [
    {
     "name": "stdout",
     "output_type": "stream",
     "text": [
      "+----------------------------------------------------------------------+\n",
      "| Роки з екстремальною посухою (де більше 10% областей мають VHI < 15) |\n",
      "+--------+-------------------------------------------+-----------------+\n",
      "|  Year  |          К-сть областей з посухою         |     Відсоток    |\n",
      "+--------+-------------------------------------------+-----------------+\n",
      "|  2000  |                     4                     |      16.67%     |\n",
      "|  2007  |                     5                     |      20.83%     |\n",
      "+--------+-------------------------------------------+-----------------+\n",
      "+-------------------------------------------------------------------------+\n",
      "| Роки з помірною посухою (де більше 10% областей мають VHI від 15 до 35) |\n",
      "+---------+---------------------------------------------+-----------------+\n",
      "|   Year  |           К-сть областей з посухою          |     Відсоток    |\n",
      "+---------+---------------------------------------------+-----------------+\n",
      "|   2000  |                      24                     |      100.0%     |\n",
      "|   2001  |                      9                      |      37.5%      |\n",
      "|   2002  |                      12                     |      50.0%      |\n",
      "|   2003  |                      13                     |      54.17%     |\n",
      "|   2004  |                      3                      |      12.5%      |\n",
      "|   2005  |                      7                      |      29.17%     |\n",
      "|   2006  |                      12                     |      50.0%      |\n",
      "|   2007  |                      15                     |      62.5%      |\n",
      "|   2008  |                      15                     |      62.5%      |\n",
      "|   2009  |                      14                     |      58.33%     |\n",
      "|   2010  |                      13                     |      54.17%     |\n",
      "|   2011  |                      16                     |      66.67%     |\n",
      "|   2012  |                      12                     |      50.0%      |\n",
      "|   2013  |                      15                     |      62.5%      |\n",
      "|   2014  |                      10                     |      41.67%     |\n",
      "|   2015  |                      23                     |      95.83%     |\n",
      "|   2016  |                      15                     |      62.5%      |\n",
      "|   2017  |                      11                     |      45.83%     |\n",
      "|   2018  |                      14                     |      58.33%     |\n",
      "|   2019  |                      23                     |      95.83%     |\n",
      "|   2020  |                      16                     |      66.67%     |\n",
      "|   2021  |                      10                     |      41.67%     |\n",
      "|   2022  |                      6                      |      25.0%      |\n",
      "|   2023  |                      19                     |      79.17%     |\n",
      "+---------+---------------------------------------------+-----------------+\n"
     ]
    }
   ],
   "source": [
    "def drought_years(df, percentage, type_of_drought, start_year=None, end_year=None):\n",
    "    # якщо рік не заданий - ставлю початковий/останній рік датафрейму\n",
    "    if start_year is not None:\n",
    "        df = df[df['Year'] >= start_year]\n",
    "    if end_year is not None:\n",
    "        df = df[df['Year'] <= end_year]\n",
    "\n",
    "    # словник кількості областей з VHI менше порогового значення для кожного року\n",
    "    drought_count = {}\n",
    "\n",
    "    # групую дані за роками\n",
    "    grouped_data = df.groupby('Year')\n",
    "\n",
    "    # перебираю кожний рік\n",
    "    for year, group_df in grouped_data:\n",
    "        # знаходжу к-сть областей у цьому році\n",
    "        total_areas = len(group_df['region_id'].unique())\n",
    "\n",
    "        if type_of_drought == \"extreme\":\n",
    "            # к-сть областей з VHI < 15\n",
    "            drought_areas = group_df[group_df['VHI'] < 15]['region_id'].nunique()\n",
    "        elif type_of_drought == \"moderate\":\n",
    "            # к-сть областей з VHI > 15 але < 35\n",
    "            drought_areas = group_df[(group_df['VHI'] > 15) & (group_df['VHI'] < 35)]['region_id'].nunique()\n",
    "        \n",
    "        # якщо к-сть посушливих областей > заданий відсоток - то зберігаю рік\n",
    "        if drought_areas / total_areas > percentage / 100:\n",
    "            drought_count[year] = (drought_areas, round((drought_areas / total_areas) * 100, 2))\n",
    "\n",
    "    # створюю таблицю за допомогою PrettyTable\n",
    "    table = PrettyTable()\n",
    "    if type_of_drought == \"extreme\":\n",
    "        table.title = f\"Роки з екстремальною посухою (де більше {percentage}% областей мають VHI < 15)\"\n",
    "    elif type_of_drought == \"moderate\":\n",
    "        table.title = f\"Роки з помірною посухою (де більше {percentage}% областей мають VHI від 15 до 35)\"\n",
    "\n",
    "    table.field_names = [\"Year\", \"К-сть областей з посухою\", \"Відсоток\"]\n",
    "\n",
    "    for year, (drought_areas, percent) in drought_count.items():\n",
    "        table.add_row([year, drought_areas, f\"{percent}%\"])\n",
    "\n",
    "    return table\n",
    "\n",
    "# приклад для екстримальних\n",
    "drought_years_extreme = drought_years(resultdf, 10, \"extreme\", start_year='2000', end_year='2024')\n",
    "print(drought_years_extreme)\n",
    "\n",
    "# приклад для помірних\n",
    "drought_years_moderate = drought_years(resultdf, 10, \"moderate\", start_year='2000', end_year='2024')\n",
    "print(drought_years_moderate)\n"
   ]
  }
 ],
 "metadata": {
  "kernelspec": {
   "display_name": "Python 3",
   "language": "python",
   "name": "python3"
  },
  "language_info": {
   "codemirror_mode": {
    "name": "ipython",
    "version": 3
   },
   "file_extension": ".py",
   "mimetype": "text/x-python",
   "name": "python",
   "nbconvert_exporter": "python",
   "pygments_lexer": "ipython3",
   "version": "3.12.1"
  }
 },
 "nbformat": 4,
 "nbformat_minor": 2
}
